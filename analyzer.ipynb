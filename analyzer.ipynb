{
 "cells": [
  {
   "cell_type": "markdown",
   "id": "80c98223",
   "metadata": {},
   "source": [
    "Imports"
   ]
  },
  {
   "cell_type": "code",
   "execution_count": null,
   "id": "31042562",
   "metadata": {},
   "outputs": [],
   "source": [
    "import os\n",
    "import pandas as pd\n",
    "import numpy as np\n",
    "from matplotlib import pyplot as plt"
   ]
  },
  {
   "cell_type": "code",
   "execution_count": null,
   "id": "61428de5",
   "metadata": {},
   "outputs": [],
   "source": [
    "if not os.path.exists(\"./opinions\"):\n",
    "    os.mkdir(\"./pie_charts\")\n",
    "if not os.path.exists(\"./bar_charts\"):\n",
    "    os.mkdir(\"./bar_charts\")"
   ]
  },
  {
   "cell_type": "markdown",
   "id": "5cf1cdc6",
   "metadata": {},
   "source": [
    "Getting opinions about produuct from database"
   ]
  },
  {
   "cell_type": "code",
   "execution_count": null,
   "id": "46ac0c79",
   "metadata": {},
   "outputs": [],
   "source": [
    "print(*[file_name.split('.')[0] for file_name in os.listdir(\"./opinions\")], sep=\"\\n\") # unpacking list comprehension using [*], using arg sep=\"\\n\" to seperate the print values in the "
   ]
  },
  {
   "cell_type": "code",
   "execution_count": null,
   "id": "06df66bc",
   "metadata": {},
   "outputs": [],
   "source": [
    "product_id = input(\"Please enter the product code: \")\n",
    "opinions = pd.read_json(\"./opinions/\"+product_id+\".json\")"
   ]
  },
  {
   "cell_type": "markdown",
   "id": "e51c8e71",
   "metadata": {},
   "source": [
    "Calculating basic statistics"
   ]
  },
  {
   "cell_type": "code",
   "execution_count": null,
   "id": "0d79a47d",
   "metadata": {},
   "outputs": [],
   "source": [
    "opinions_count = opinions.shape[0]\n",
    "pros_count = sum(opinions.pros_pl.astype(bool)) # converts the list into a bool [empty]/[not-empty], the sum counts trues a 1s and falses as 0s\n",
    "cons_count = sum(opinions.cons_pl.astype(bool))\n",
    "pros_cons_count = opinions.apply(lambda opinion: bool(opinion.pros_pl) and bool(opinion.cons_pl), axis=1).sum() \n",
    "# apply is a function that iterates over an object and applies a function\n",
    "# axis=1 specifies we want to apply this function to every row (row by row)\n",
    "# we're using the lambda function to compare the two elements in eaach row\n",
    "\n",
    "average_score = opinions.score.mean()\n",
    "print(f\"Number of opinions about the product: {opinions_count}\")\n",
    "print(f\"Number of opinions with advantages listed: {pros_count}\")\n",
    "print(f\"Number of opinions with disadvantages listed: {cons_count}\")\n",
    "print(f\"Number of opinions for which advantages and disadvantages are listed: {pros_cons_count}\")\n",
    "print(f\"Average score of all opinions: {average_score: .2f}\")"
   ]
  },
  {
   "cell_type": "code",
   "execution_count": null,
   "id": "8b959bb5",
   "metadata": {},
   "outputs": [],
   "source": [
    "pros = opinions.pros_en.explode().value_counts() # flattens from a series of lists to a series of strings; counts number of unique elements\n",
    "cons = opinions.cons_en.explode().value_counts()"
   ]
  },
  {
   "cell_type": "markdown",
   "id": "a0733fa7",
   "metadata": {},
   "source": [
    "Drawing charts"
   ]
  },
  {
   "cell_type": "code",
   "execution_count": null,
   "id": "f25a2538",
   "metadata": {},
   "outputs": [],
   "source": [
    "recommendations = opinions.recommendation.value_counts(dropna=False).reindex([True, False, None], fill_value=0) # reindex orders based on values in [], based on variable, (T,F,N)\n",
    "plt.figure(figsize=(7,5))"
   ]
  },
  {
   "cell_type": "code",
   "execution_count": null,
   "id": "b44e919f",
   "metadata": {},
   "outputs": [],
   "source": [
    "recommendations.plot.pie(\n",
    "    label = \"\",\n",
    "    labels = [\"Recommend\", \"Not recommend\", \"No opinion\"], # same order as stated in the reindex order statement above\n",
    "    colors = [\"forestgreen\", \"crimson\", \"steelblue\"], # colours\n",
    "    autopct = lambda r: f\"{r:.1f}%\" if r > 0 else \"\" # function that returns a percentage value only if greate than 0%, (exclude) from chart\n",
    ")\n",
    "plt.title(f\"recommendations for product {product_id}\")\n",
    "plt.savefig(f\"./pie_charts/{product_id}.png\")\n",
    "plt.plot()"
   ]
  },
  {
   "cell_type": "code",
   "execution_count": null,
   "id": "0ea7bcae",
   "metadata": {},
   "outputs": [],
   "source": [
    "scores = opinions.score.value_counts().reindex(list(np.arange(0.5,5.5,0.5)), fill_value=0)"
   ]
  },
  {
   "cell_type": "code",
   "execution_count": null,
   "id": "2a0141bf",
   "metadata": {},
   "outputs": [],
   "source": [
    "ax = scores.plot.bar(\n",
    "    color = [\"forestgreen\" if s > 3.5 else \"crimson\" if s < 3 else \"steelblue\" for s in scores.index]\n",
    ")\n",
    "plt.bar_label(container=ax.containers[0])\n",
    "plt.xlabel(\"Score\")\n",
    "plt.ylabel(\"Number of opinions\")\n",
    "no_opinions = len(opinions)\n",
    "plt.title(\"Number of opinions about {product_id} by their respective scores.\\nTotal number of opinions: {no_opinions}\")\n",
    "plt.xticks(rotation=0)\n",
    "plt.savefig(f\"./bar_charts/{product_id}.png\")\n",
    "plt.show()"
   ]
  }
 ],
 "metadata": {
  "kernelspec": {
   "display_name": ".venv",
   "language": "python",
   "name": "python3"
  },
  "language_info": {
   "codemirror_mode": {
    "name": "ipython",
    "version": 3
   },
   "file_extension": ".py",
   "mimetype": "text/x-python",
   "name": "python",
   "nbconvert_exporter": "python",
   "pygments_lexer": "ipython3",
   "version": "3.13.0"
  }
 },
 "nbformat": 4,
 "nbformat_minor": 5
}
