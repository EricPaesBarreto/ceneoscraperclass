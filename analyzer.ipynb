{
 "cells": [
  {
   "cell_type": "markdown",
   "id": "80c98223",
   "metadata": {},
   "source": [
    "Imports"
   ]
  },
  {
   "cell_type": "code",
   "execution_count": null,
   "id": "31042562",
   "metadata": {},
   "outputs": [],
   "source": [
    "import os\n",
    "import pandas as pd\n",
    "import numpy as np\n",
    "from matplotlib import pyplot as plt"
   ]
  },
  {
   "cell_type": "markdown",
   "id": "5cf1cdc6",
   "metadata": {},
   "source": [
    "Getting opinions about produuct from database"
   ]
  },
  {
   "cell_type": "code",
   "execution_count": null,
   "id": "46ac0c79",
   "metadata": {},
   "outputs": [],
   "source": [
    "print(*[file_name.split('.')[0] for file_name in os.listdir(\"./opinions\")], sep=\"\\n\") # unpacking list comprehension using [*], using arg sep=\"\\n\" to seperate the print values in the "
   ]
  },
  {
   "cell_type": "code",
   "execution_count": null,
   "id": "06df66bc",
   "metadata": {},
   "outputs": [],
   "source": [
    "opinions = pd.read_json(\"./opinions/\"+input(\"Please enter the product code: \")+\".json\")\n",
    "opinions"
   ]
  },
  {
   "cell_type": "markdown",
   "id": "e51c8e71",
   "metadata": {},
   "source": [
    "Calculating basic statistics"
   ]
  },
  {
   "cell_type": "code",
   "execution_count": null,
   "id": "0d79a47d",
   "metadata": {},
   "outputs": [],
   "source": [
    "opinions_count = opinions.shape[0]\n",
    "pros_count = sum(opinions.pros_pl.astype(bool)) # converts the list into a bool [empty]/[not-empty], the sum counts trues a 1s and falses as 0s\n",
    "cons_count = sum(opinions.cons_pl.astype(bool))\n",
    "pros_cons_count = opinions.apply(lambda opinion: bool(opinion.pros_pl) and bool(opinion.cons_pl), axis=1).sum() \n",
    "# apply is a function that iterates over an object and applies a function\n",
    "# axis=1 specifies we want to apply this function to every row (row by row)\n",
    "# we're using the lambda function to compare the two elements in eaach row\n",
    "\n",
    "average_score = opinions.score.mean()\n",
    "print(f\"Number of opinions about the product: {opinions_count}\")\n",
    "print(f\"Number of opinions with advantages listed: {pros_count}\")\n",
    "print(f\"Number of opinions with disadvantages listed: {cons_count}\")\n",
    "print(f\"Number of opinions for which advantages and disadvantages are listed: {pros_cons_count}\")\n",
    "print(f\"Average score of all opinions: {average_score: .2f}\")"
   ]
  },
  {
   "cell_type": "code",
   "execution_count": null,
   "id": "8b959bb5",
   "metadata": {},
   "outputs": [],
   "source": [
    "pros = opinions.pros_en.explode().value_counts() # flattens from a series of lists to a series of strings; counts number of unique elements\n",
    "cons = opinions.cons_en.explode().value_counts()"
   ]
  },
  {
   "cell_type": "markdown",
   "id": "a0733fa7",
   "metadata": {},
   "source": [
    "Drawing charts"
   ]
  }
 ],
 "metadata": {
  "kernelspec": {
   "display_name": ".venv",
   "language": "python",
   "name": "python3"
  },
  "language_info": {
   "codemirror_mode": {
    "name": "ipython",
    "version": 3
   },
   "file_extension": ".py",
   "mimetype": "text/x-python",
   "name": "python",
   "nbconvert_exporter": "python",
   "pygments_lexer": "ipython3",
   "version": "3.13.0"
  }
 },
 "nbformat": 4,
 "nbformat_minor": 5
}
