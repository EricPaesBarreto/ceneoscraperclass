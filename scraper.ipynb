{
 "cells": [
  {
   "cell_type": "markdown",
   "metadata": {},
   "source": [
    "### Extraction of opinions"
   ]
  },
  {
   "cell_type": "markdown",
   "metadata": {},
   "source": [
    "Imports"
   ]
  },
  {
   "cell_type": "code",
   "execution_count": 25,
   "metadata": {},
   "outputs": [],
   "source": [
    "import json\n",
    "import requests\n",
    "from bs4 import BeautifulSoup\n",
    "import os\n",
    "from deep_translator import GoogleTranslator\n",
    "import datetime"
   ]
  },
  {
   "cell_type": "markdown",
   "metadata": {},
   "source": [
    "Utils"
   ]
  },
  {
   "cell_type": "code",
   "execution_count": 26,
   "metadata": {},
   "outputs": [],
   "source": [
    "# define a function to rerurn a given child selector(s) from within a given ancestor\n",
    "def extract(ancestor, selector=None, attribute = None, multiple = False):\n",
    "    if selector:\n",
    "        if multiple:\n",
    "            if attribute:\n",
    "                return [tag[attribute].strip() for tag in ancestor.select(selector)]\n",
    "            return [tag.text.strip() for tag in ancestor.select(selector)]\n",
    "        if attribute:\n",
    "            try:\n",
    "                return ancestor.select_one(selector)[attribute].strip()\n",
    "            except TypeError:\n",
    "                return None\n",
    "        try:\n",
    "            return ancestor.select_one(selector).text.strip()\n",
    "        except AttributeError:\n",
    "            return None\n",
    "    if attribute:\n",
    "        return ancestor[attribute]\n",
    "    return ancestor.text.strip()"
   ]
  },
  {
   "cell_type": "code",
   "execution_count": 27,
   "metadata": {},
   "outputs": [],
   "source": [
    "selectors = {\n",
    "    'opinion_id': (None, \"data-entry-id\"),\n",
    "    'author': (\"span.user-post__author-name\",),\n",
    "    'recommendation': (\"span.user-post__author-recomendation > em\",),\n",
    "    'score': (\"span.user-post__score-count\",),\n",
    "    'content_pl': (\"div.user-post__text\",),\n",
    "    'pros_pl': (\"div.review-feature__item--positive\", None, True),\n",
    "    'cons_pl': (\"div.review-feature__item--negative\", None, True),\n",
    "    'thumbs_up': (\"button.vote-yes\", \"data-total-vote\",),\n",
    "    'thumbs_down': (\"button.vote-no\", \"data-total-vote\",),\n",
    "    'date_published': (\"span.user-post__published > time:nth-child(1)\", \"datetime\"),\n",
    "    'date_purchased': (\"span.user-post__published > time:nth-child(2)\", \"datetime\")\n",
    "}"
   ]
  },
  {
   "cell_type": "markdown",
   "metadata": {},
   "source": [
    "Translation function"
   ]
  },
  {
   "cell_type": "code",
   "execution_count": 28,
   "metadata": {},
   "outputs": [],
   "source": [
    "def translate(text, source = 'pl', target = 'en'):\n",
    "    return GoogleTranslator(source, target).translate(text)"
   ]
  },
  {
   "cell_type": "markdown",
   "metadata": {},
   "source": [
    "Obtaining the webpage"
   ]
  },
  {
   "cell_type": "code",
   "execution_count": 29,
   "metadata": {},
   "outputs": [],
   "source": [
    "with open(\"./cookie.json\", \"r\", encoding=\"UTF-8\") as json_file:\n",
    "    headers = json.load(json_file)\n",
    "requests_url = \"https://www.ceneo.pl/\"\n",
    "product_id = input('Please enter a produt ID') # 161123001, 163107768, 66915598\n",
    "url = f\"{requests_url}{product_id}#tab=reviews\"\n",
    "response = requests.get(url, headers = headers)"
   ]
  },
  {
   "cell_type": "markdown",
   "metadata": {},
   "source": [
    "Extracting the opinions"
   ]
  },
  {
   "cell_type": "code",
   "execution_count": 30,
   "metadata": {},
   "outputs": [],
   "source": [
    "all_opinions = []\n",
    "while url is not None:\n",
    "    response = requests.get(url, headers = headers)\n",
    "    if response.status_code == 200:\n",
    "        page_doc = BeautifulSoup(response.text, 'html.parser')\n",
    "        opinions = page_doc.select(\"div.js_product-review:not(.user-post--highlight)\")\n",
    "        for opinion in opinions:\n",
    "            single_opinion = {\n",
    "                key: extract(opinion, *values) # unpacks a tuple or list --> converts list of elements into seperate elements\n",
    "                for key, values in selectors.items()\n",
    "            }\n",
    "\n",
    "            # optional translation\n",
    "            try:\n",
    "                single_opinion['content_en'] = translate(single_opinion['content_pl'])\n",
    "            except Exception:\n",
    "                single_opinion['content_en'] = None\n",
    "            try:\n",
    "                single_opinion['pros_en'] = [translate(pro_pl) for pro_pl in single_opinion['pros_pl']]\n",
    "            except Exception:\n",
    "                single_opinion['pros_en'] = None\n",
    "            try:\n",
    "                single_opinion['cons_en'] = [translate(con_pl) for con_pl in single_opinion['cons_pl']]\n",
    "            except Exception:\n",
    "                single_opinion['cons_en'] = None\n",
    "            \n",
    "            single_opinion['recommendation'] = True if single_opinion['recommendation'] == \"polecam\" else False if single_opinion['recommendation']  == \"Nie polecam\" else None\n",
    "            single_opinion['score'] = float(single_opinion['score'].split('/')[0].replace(\",\",\".\"))\n",
    "            # single_opinion['date_published'] = datetime.datetime.fromisoformat(single_opinion['date_published'])\n",
    "            # single_opinion['date_purchased'] = datetime.datetime.fromisoformat(single_opinion['date_purchased']) if single_opinion['date_purchased'] else None\n",
    "            single_opinion['thumbs_up'] = int(single_opinion['thumbs_up'])\n",
    "            single_opinion['thumbs__down'] = int(single_opinion['thumbs_down'])\n",
    "\n",
    "            all_opinions.append(single_opinion)\n",
    "        try:\n",
    "            url = \"https://www.ceneo.pl\"+page_doc.select_one(\"a.pagination__next\")[\"href\"]\n",
    "        except TypeError:\n",
    "            url = None"
   ]
  },
  {
   "cell_type": "code",
   "execution_count": 31,
   "metadata": {},
   "outputs": [],
   "source": [
    "for single_opinion in all_opinions:\n",
    "    try:\n",
    "        single_opinion['date_published'] = single_opinion['date_published'].strftime(\"%Y-%m-%d, %H:%M:%S\") if single_opinion['date_published'] else None\n",
    "    except AttributeError:\n",
    "        pass\n",
    "    try:\n",
    "        single_opinion['date_purchased'] = single_opinion['date_purchased'].strftime(\"%Y-%m-%d, %H:%M:%S\") if single_opinion['date_purchased'] else None\n",
    "    except AttributeError:\n",
    "        pass"
   ]
  },
  {
   "cell_type": "markdown",
   "metadata": {},
   "source": [
    "Generating json file"
   ]
  },
  {
   "cell_type": "code",
   "execution_count": 32,
   "metadata": {},
   "outputs": [],
   "source": [
    "if not os.path.exists(\"./opinions\"):\n",
    "    os.mkdir(\"./opinions\")\n",
    "with open(f\"./opinions/{product_id}.json\", \"w\", encoding=\"UTF-8\") as json_file:\n",
    "    json.dump(all_opinions, json_file, indent=4, ensure_ascii=False)"
   ]
  }
 ],
 "metadata": {
  "kernelspec": {
   "display_name": ".venv",
   "language": "python",
   "name": "python3"
  },
  "language_info": {
   "codemirror_mode": {
    "name": "ipython",
    "version": 3
   },
   "file_extension": ".py",
   "mimetype": "text/x-python",
   "name": "python",
   "nbconvert_exporter": "python",
   "pygments_lexer": "ipython3",
   "version": "3.13.0"
  }
 },
 "nbformat": 4,
 "nbformat_minor": 2
}
