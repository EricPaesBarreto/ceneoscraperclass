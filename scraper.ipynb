{
 "cells": [
  {
   "cell_type": "markdown",
   "metadata": {},
   "source": [
    "### Extraction of opinions"
   ]
  },
  {
   "cell_type": "markdown",
   "metadata": {},
   "source": [
    "Imports"
   ]
  },
  {
   "cell_type": "code",
   "execution_count": 1,
   "metadata": {},
   "outputs": [],
   "source": [
    "import json\n",
    "import requests\n",
    "from bs4 import BeautifulSoup\n",
    "import os"
   ]
  },
  {
   "cell_type": "markdown",
   "metadata": {},
   "source": [
    "Utils"
   ]
  },
  {
   "cell_type": "code",
   "execution_count": 2,
   "metadata": {},
   "outputs": [],
   "source": [
    "# define a function to rerurn a given child selector(s) from within a given ancestor\n",
    "def extract(ancestor, selector=None, attribute = None, multiple = False):\n",
    "    if selector:\n",
    "        if multiple:\n",
    "            if attribute:\n",
    "                return [tag[attribute].strip for tag in ancestor.select(selector)]\n",
    "            return [tag.text.strip for tag in ancestor.select(selector)]\n",
    "        if attribute:\n",
    "            try:\n",
    "                return ancestor.select_one(selector)[attribute].strip()\n",
    "            except TypeError:\n",
    "                return None\n",
    "        try:\n",
    "            return ancestor.select_one(selector).text.strip()\n",
    "        except AttributeError:\n",
    "            return None\n",
    "    if attribute:\n",
    "        return ancestor[attribute]\n",
    "    return ancestor.text.strip()"
   ]
  },
  {
   "cell_type": "markdown",
   "metadata": {},
   "source": [
    "Obtaining the webpage"
   ]
  },
  {
   "cell_type": "code",
   "execution_count": 3,
   "metadata": {},
   "outputs": [],
   "source": [
    "with open(\"./cookie.json\", \"r\", encoding=\"UTF-8\") as json_file:\n",
    "    headers = json.load(json_file)\n",
    "requests_url = \"https://www.ceneo.pl/\"\n",
    "product_id = \"161123001\"\n",
    "url = f\"{requests_url}{product_id}#tab=reviews\"\n",
    "response = requests.get(url, headers = headers)"
   ]
  },
  {
   "cell_type": "markdown",
   "metadata": {},
   "source": [
    "Extracting the opinions"
   ]
  },
  {
   "cell_type": "code",
   "execution_count": 4,
   "metadata": {},
   "outputs": [],
   "source": [
    "all_opinions = []\n",
    "while url is not None:\n",
    "    response = requests.get(url, headers = headers)\n",
    "    if response.status_code == 200:\n",
    "        page_doc = BeautifulSoup(response.text, 'html.parser')\n",
    "        opinions = page_doc.select(\"div.js_product-review:not(.user-post--highlight)\")\n",
    "        for opinion in opinions:\n",
    "            single_opinion = {}\n",
    "            single_opinion['opinion_id'] = extract(opinion, None, \"data-entry-id\")\n",
    "            single_opinion['author'] = extract(opinion, \"span.user-post__author-name\")\n",
    "            single_opinion['recommendation'] = extract(opinion, \"span.user-post__author-recomendation > em\")\n",
    "            single_opinion['score'] = extract(opinion, \"span.user-post__score-count\")\n",
    "            single_opinion['content'] = extract(opinion, \"div.user-post__text\")\n",
    "            single_opinion['pros'] = extract(opinion, \"review-feature__item--positive\", None, True)\n",
    "            single_opinion['cons'] = extract(opinion, \"review-feature__item--negative\", None, True)\n",
    "            single_opinion['thumbs_up'] = extract(opinion, \"button.vote-yes\", \"data-total-vote\")\n",
    "            single_opinion['thumbs_down'] = extract(opinion, \"button.vote-no\", \"data-total-vote\")\n",
    "            single_opinion['date_published'] = extract(opinion, \"span.user-post__published > time:nth-child(1)\", \"datetime\")\n",
    "            single_opinion['date_purchased'] = extract(opinion, \"span.user-post__published > time:nth-child(2)\", \"datetime\")\n",
    "            all_opinions.append(single_opinion)\n",
    "        try:\n",
    "            url = \"https://www.ceneo.pl\"+page_doc.select_one(\"a.pagination__next\")[\"href\"]\n",
    "        except TypeError:\n",
    "            url = None"
   ]
  },
  {
   "cell_type": "markdown",
   "metadata": {},
   "source": [
    "Generating json file"
   ]
  },
  {
   "cell_type": "code",
   "execution_count": 5,
   "metadata": {},
   "outputs": [],
   "source": [
    "if not os.path.exists(\"./opinions\"):\n",
    "    os.mkdir(\"./opinions\")\n",
    "with open(f\"./opinions/{product_id}.json\", \"w\", encoding=\"UTF-8\") as json_file:\n",
    "    json.dump(all_opinions, json_file, indent=4, ensure_ascii=False)"
   ]
  }
 ],
 "metadata": {
  "kernelspec": {
   "display_name": ".venv",
   "language": "python",
   "name": "python3"
  },
  "language_info": {
   "codemirror_mode": {
    "name": "ipython",
    "version": 3
   },
   "file_extension": ".py",
   "mimetype": "text/x-python",
   "name": "python",
   "nbconvert_exporter": "python",
   "pygments_lexer": "ipython3",
   "version": "3.13.0"
  }
 },
 "nbformat": 4,
 "nbformat_minor": 2
}
