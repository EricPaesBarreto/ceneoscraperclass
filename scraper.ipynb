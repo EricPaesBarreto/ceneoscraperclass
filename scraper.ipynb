{
 "cells": [
  {
   "cell_type": "code",
   "execution_count": null,
   "metadata": {},
   "outputs": [],
   "source": [
    "import json\n",
    "import requests\n",
    "from bs4 import BeautifulSoup\n",
    "\n",
    "with open(\"./cookie.json\", \"r\", encoding=\"UTF-8\") as json_file:\n",
    "    headers = json.load(json_file)\n",
    "\n",
    "requests_url = \"https://www.ceneo.pl/\"\n",
    "product_id = \"161123001\"\n",
    "url = f\"{requests_url}{product_id}\"\n",
    "response = requests.get(url, headers = headers)\n",
    "\n",
    "all_opinions = []\n",
    "while url is not None:\n",
    "    response = requests.get(url, headers = headers)\n",
    "    if response.status_code == 200:\n",
    "        page_doc = BeautifulSoup(response.text, 'html.parser')\n",
    "        opinions = page_doc.select(\"div.js_product-review:not(.user-post--highlight)\")\n",
    "        for opinion in opinions:\n",
    "            single_opinion = {}\n",
    "            single_opinion['opinion_id'] = opinion[\"data-entry-id\"]\n",
    "            single_opinion['author'] = opinion.select_one(\"span.user-post__author-name\").text.strip()\n",
    "            try:\n",
    "                # some opinions do not have a 'recomendation'\n",
    "                single_opinion['recommendation'] = opinion.select_one(\"span.user-post__author-recomendation > em\").text.strip()\n",
    "            except AttributeError:\n",
    "                single_opinion['recommendation'] = None\n",
    "            single_opinion['score'] = opinion.select_one(\"span.user-post__score-count\").text.strip()\n",
    "            single_opinion['content'] = opinion.select_one(\"div.user-post__text\").text.strip()\n",
    "            single_opinion['pros'] = [tag.text.strip() for tag in opinion.select(\"review-feature__item--positive\")] # list comprehension\n",
    "            single_opinion['cons'] = [tag.text.strip() for tag in opinion.select(\"review-feature__item--negative\")] # list comprehension\n",
    "            single_opinion['thumbs_up'] = opinion.select_one(\"button.vote-yes\")[\"data-total-vote\"].strip()\n",
    "            single_opinion['thumbs_down'] = opinion.select_one(\"button.vote-no\")[\"data-total-vote\"].strip()\n",
    "            single_opinion['date_published'] = opinion.select_one(\"span.user-post__published > time:nth-child(1)\")[\"datetime\"].strip()\n",
    "            try:\n",
    "                single_opinion['date_purchased'] = opinion.select_one(\"span.user-post__published > time:nth-child(2)\")[\"datetime\"].strip()\n",
    "            except TypeError:\n",
    "                single_opinion['date_purchased'] = None\n",
    "            all_opinions.append(single_opinion)\n",
    "            print(single_opinion)\n",
    "        try:\n",
    "            url = \"https://www.ceneo.pl\"+page_doc.select_one(\"a.pagination__next\")[\"href\"]\n",
    "        except TypeError:\n",
    "            url = None"
   ]
  }
 ],
 "metadata": {
  "kernelspec": {
   "display_name": "venv",
   "language": "python",
   "name": "python3"
  },
  "language_info": {
   "codemirror_mode": {
    "name": "ipython",
    "version": 3
   },
   "file_extension": ".py",
   "mimetype": "text/x-python",
   "name": "python",
   "nbconvert_exporter": "python",
   "pygments_lexer": "ipython3",
   "version": "3.13.0"
  }
 },
 "nbformat": 4,
 "nbformat_minor": 2
}
